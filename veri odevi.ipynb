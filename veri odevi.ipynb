{
 "cells": [
  {
   "cell_type": "code",
   "execution_count": 1,
   "metadata": {},
   "outputs": [
    {
     "name": "stdout",
     "output_type": "stream",
     "text": [
      "      CityName CategoryName GenderName  BirthYear\n",
      "0     İstanbul     Ortaokul      Erkek       2012\n",
      "1     İstanbul     Ortaokul      Erkek       2012\n",
      "2     İstanbul         Lise      Erkek       2012\n",
      "3     İstanbul      İlkokul      Kadın       2009\n",
      "4        Konya     Ortaokul      Erkek       2006\n",
      "..         ...          ...        ...        ...\n",
      "194       Kars      İlkokul      Kadın       2010\n",
      "195    Bilecik         Lise      Erkek       2000\n",
      "196  Çanakkale         Lise      Erkek       1999\n",
      "197    Erzurum     Ortaokul      Erkek       2008\n",
      "198    Erzurum     Ortaokul      Erkek       2008\n",
      "\n",
      "[199 rows x 4 columns]\n"
     ]
    }
   ],
   "source": [
    "import pandas as pd\n",
    "\n",
    "df = pd.read_excel (r'C:\\Users\\ela\\Desktop\\association.xlsx') #imported data at first\n",
    "print (df)      #displayed the data           \n",
    "\n"
   ]
  },
  {
   "cell_type": "code",
   "execution_count": 2,
   "metadata": {
    "scrolled": true
   },
   "outputs": [
    {
     "name": "stdout",
     "output_type": "stream",
     "text": [
      "Requirement already satisfied: apyori in c:\\users\\ela\\appdata\\roaming\\python\\python37\\site-packages (1.1.2)\n",
      "Note: you may need to restart the kernel to use updated packages.\n"
     ]
    }
   ],
   "source": [
    "pip install apyori #secondly installed apyori package"
   ]
  },
  {
   "cell_type": "code",
   "execution_count": 3,
   "metadata": {},
   "outputs": [],
   "source": [
    "import numpy as np\n",
    "import matplotlib.pyplot as plt\n",
    "import pandas as pd\n",
    "from apyori import apriori # thirdly imported apriori libraries\n"
   ]
  },
  {
   "cell_type": "code",
   "execution_count": 4,
   "metadata": {},
   "outputs": [
    {
     "name": "stdout",
     "output_type": "stream",
     "text": [
      "199\n"
     ]
    },
    {
     "data": {
      "text/plain": [
       "(199, 4)"
      ]
     },
     "execution_count": 4,
     "metadata": {},
     "output_type": "execute_result"
    }
   ],
   "source": [
    "num_records = len(df)\n",
    "print(num_records) #found values for 'for loop'\n",
    "df.shape"
   ]
  },
  {
   "cell_type": "code",
   "execution_count": 7,
   "metadata": {},
   "outputs": [
    {
     "name": "stdout",
     "output_type": "stream",
     "text": [
      "1\n",
      "[RelationRecord(items=frozenset({'Kadın', 'Ortaokul', '2006'}), support=0.06030150753768844, ordered_statistics=[OrderedStatistic(items_base=frozenset({'2006'}), items_add=frozenset({'Ortaokul', 'Kadın'}), confidence=0.7058823529411765, lift=3.3445378151260505), OrderedStatistic(items_base=frozenset({'Ortaokul', 'Kadın'}), items_add=frozenset({'2006'}), confidence=0.2857142857142857, lift=3.3445378151260505)])]\n"
     ]
    }
   ],
   "source": [
    "records = []\n",
    "for i in range(0,199): #added apriori algorithm\n",
    "    records.append([str(df.values[i,j]) for j in range(0,4)])\n",
    "association_rules=apriori(records,min_support=0.053, min_confidence=0.2, min_lift=3, min_length=2)\n",
    "association_results= list(association_rules)\n",
    "\n",
    "print (len(association_results)) #displayed for the results\n",
    "print(association_results)"
   ]
  },
  {
   "cell_type": "code",
   "execution_count": null,
   "metadata": {},
   "outputs": [],
   "source": []
  },
  {
   "cell_type": "code",
   "execution_count": null,
   "metadata": {},
   "outputs": [],
   "source": []
  }
 ],
 "metadata": {
  "kernelspec": {
   "display_name": "Python 3",
   "language": "python",
   "name": "python3"
  },
  "language_info": {
   "codemirror_mode": {
    "name": "ipython",
    "version": 3
   },
   "file_extension": ".py",
   "mimetype": "text/x-python",
   "name": "python",
   "nbconvert_exporter": "python",
   "pygments_lexer": "ipython3",
   "version": "3.7.4"
  }
 },
 "nbformat": 4,
 "nbformat_minor": 2
}
